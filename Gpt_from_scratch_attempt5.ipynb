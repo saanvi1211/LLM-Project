{
  "cells": [
    {
      "cell_type": "markdown",
      "metadata": {
        "id": "view-in-github",
        "colab_type": "text"
      },
      "source": [
        "<a href=\"https://colab.research.google.com/github/saanvi1211/LLM-Project/blob/main/Gpt_from_scratch_attempt5.ipynb\" target=\"_parent\"><img src=\"https://colab.research.google.com/assets/colab-badge.svg\" alt=\"Open In Colab\"/></a>"
      ]
    },
    {
      "cell_type": "markdown",
      "metadata": {
        "id": "wJpXpmjEYC_T"
      },
      "source": [
        "#**A transformer-based language model architecture**\n",
        "\n"
      ]
    },
    {
      "cell_type": "code",
      "source": [
        "import chardet\n",
        "\n",
        "# Function to detect file encoding\n",
        "def detect_encoding(file_path):\n",
        "    with open(file_path, 'rb') as f:\n",
        "        rawdata = f.read()\n",
        "    result = chardet.detect(rawdata)\n",
        "    return result['encoding']\n",
        "\n",
        "# Detect encoding of the file\n",
        "file_encoding = detect_encoding('mergedfile.txt')\n",
        "print(\"Detected encoding:\", file_encoding)\n",
        "\n",
        "# Read the input text using detected encoding\n",
        "with open('mergedfile.txt', 'r', encoding=file_encoding) as f:\n",
        "    text = f.read()\n"
      ],
      "metadata": {
        "colab": {
          "base_uri": "https://localhost:8080/"
        },
        "id": "VRHqvcCpdbRQ",
        "outputId": "0003a4f9-3def-42c9-fed1-9b3ccd7df5e1"
      },
      "execution_count": null,
      "outputs": [
        {
          "output_type": "stream",
          "name": "stdout",
          "text": [
            "Detected encoding: MacRoman\n"
          ]
        }
      ]
    },
    {
      "cell_type": "code",
      "source": [
        "with open('mergedfile.txt', 'r', encoding='macRoman') as f:\n",
        "    text = f.read()"
      ],
      "metadata": {
        "id": "acuRKmcidlBy"
      },
      "execution_count": null,
      "outputs": []
    },
    {
      "cell_type": "code",
      "execution_count": null,
      "metadata": {
        "colab": {
          "base_uri": "https://localhost:8080/"
        },
        "id": "6xWI_VyAsN8F",
        "outputId": "443fe42f-bbd7-43af-fd5b-5d2f048af0fe"
      },
      "outputs": [
        {
          "output_type": "stream",
          "name": "stdout",
          "text": [
            "length of dataset in characters:  641426\n"
          ]
        }
      ],
      "source": [
        "print(\"length of dataset in characters: \", len(text))"
      ]
    },
    {
      "cell_type": "code",
      "execution_count": null,
      "metadata": {
        "colab": {
          "base_uri": "https://localhost:8080/"
        },
        "id": "2c5V0FvqseE0",
        "outputId": "01810ccb-d04f-4a12-b5fb-5b27f080d521"
      },
      "outputs": [
        {
          "output_type": "stream",
          "name": "stdout",
          "text": [
            "PART I\n",
            "THE UNION AND ITS TERRITORY\n",
            "1. Name and territory of the Union.‚Äî(1) India, that is Bharat, shall be\n",
            "a Union of States.\n",
            "(2) The States and the territories thereof shall be as specified in the First\n",
            "Schedule.\n",
            "(3) The territory of India shall comprise‚Äî\n",
            "(a) the territories of the States;\n",
            "(b) the Union territories specified in the First Schedule; and\n",
            "(c) such other territories as may be acquired.\n",
            "2. Admission or establishment of new States.‚ÄîParliament may by law\n",
            "admit into the Union, or establish, new States on such terms and conditions as i\n",
            "t\n",
            "thinks fit.\n",
            "2A. [Sikkim to be associated with the Union.] Rep. by the Constitution\n",
            "(Thirty- sixth Amendment) Act, 1975, s. 5 (w.e.f. 26-4-1975).\n",
            "3. Formation of new States and alteration of areas, boundaries or\n",
            "names of existing States.‚ÄîParliament may by law‚Äî\n",
            "(a)form a new State by separation of territory from any State or by\n",
            "uniting two or more States or parts of States or by uniting any territory to\n",
            "a part of any State;\n",
            "(b) increase\n"
          ]
        }
      ],
      "source": [
        "\n",
        "print(text[:1000])"
      ]
    },
    {
      "cell_type": "code",
      "execution_count": null,
      "metadata": {
        "colab": {
          "base_uri": "https://localhost:8080/"
        },
        "id": "0e-Rbyr8sfM8",
        "outputId": "d2b3f6ea-0991-4522-f677-bf8fb2c7eb02"
      },
      "outputs": [
        {
          "output_type": "stream",
          "name": "stdout",
          "text": [
            "\n",
            "\f \"'()*,-.0123456789:;ABCDEFGHIJKLMNOPQRSTUVWXYZ[]_abcdefghijklmnopqrstuvwxyz¶ÄÔìîòôùú‚™\n",
            "89\n"
          ]
        }
      ],
      "source": [
        "# here are all the unique characters that occur in this text\n",
        "chars = sorted(list(set(text)))\n",
        "vocab_size = len(chars)\n",
        "print(''.join(chars))\n",
        "print(vocab_size)"
      ]
    },
    {
      "cell_type": "code",
      "execution_count": null,
      "metadata": {
        "colab": {
          "base_uri": "https://localhost:8080/"
        },
        "id": "Yw1LKNCgwjj1",
        "outputId": "118e92cb-43ee-4116-c383-cdbe3653076e"
      },
      "outputs": [
        {
          "output_type": "stream",
          "name": "stdout",
          "text": [
            "[59, 60, 60, 2, 71, 59, 56, 69, 56]\n",
            "hii there\n"
          ]
        }
      ],
      "source": [
        "# create a mapping from characters to integers\n",
        "stoi = { ch:i for i,ch in enumerate(chars) }\n",
        "itos = { i:ch for i,ch in enumerate(chars) }\n",
        "encode = lambda s: [stoi[c] for c in s] # encoder: take a string, output a list of integers\n",
        "decode = lambda l: ''.join([itos[i] for i in l]) # decoder: take a list of integers, output a string\n",
        "\n",
        "print(encode(\"hii there\"))\n",
        "print(decode(encode(\"hii there\")))"
      ]
    },
    {
      "cell_type": "code",
      "execution_count": null,
      "metadata": {
        "colab": {
          "base_uri": "https://localhost:8080/"
        },
        "id": "YJb0OXPwzvqg",
        "outputId": "8abd54c5-4b13-4f83-8df1-6356a3e30b84"
      },
      "outputs": [
        {
          "output_type": "stream",
          "name": "stdout",
          "text": [
            "torch.Size([641426]) torch.int64\n",
            "tensor([38, 23, 40, 42,  2, 31,  0, 42, 30, 27,  2, 43, 36, 31, 37, 36,  2, 23,\n",
            "        36, 26,  2, 31, 42, 41,  2, 42, 27, 40, 40, 31, 42, 37, 40, 47,  0, 12,\n",
            "        10,  2, 36, 52, 64, 56,  2, 52, 65, 55,  2, 71, 56, 69, 69, 60, 71, 66,\n",
            "        69, 76,  2, 66, 57,  2, 71, 59, 56,  2, 43, 65, 60, 66, 65, 10, 87, 79,\n",
            "        82,  5, 12,  6,  2, 31, 65, 55, 60, 52,  8,  2, 71, 59, 52, 71,  2, 60,\n",
            "        70,  2, 24, 59, 52, 69, 52, 71,  8,  2, 70, 59, 52, 63, 63,  2, 53, 56,\n",
            "         0, 52,  2, 43, 65, 60, 66, 65,  2, 66, 57,  2, 41, 71, 52, 71, 56, 70,\n",
            "        10,  0,  5, 13,  6,  2, 42, 59, 56,  2, 41, 71, 52, 71, 56, 70,  2, 52,\n",
            "        65, 55,  2, 71, 59, 56,  2, 71, 56, 69, 69, 60, 71, 66, 69, 60, 56, 70,\n",
            "         2, 71, 59, 56, 69, 56, 66, 57,  2, 70, 59, 52, 63, 63,  2, 53, 56,  2,\n",
            "        52, 70,  2, 70, 67, 56, 54, 60, 57, 60, 56, 55,  2, 60, 65,  2, 71, 59,\n",
            "        56,  2, 28, 60, 69, 70, 71,  0, 41, 54, 59, 56, 55, 72, 63, 56, 10,  0,\n",
            "         5, 14,  6,  2, 42, 59, 56,  2, 71, 56, 69, 69, 60, 71, 66, 69, 76,  2,\n",
            "        66, 57,  2, 31, 65, 55, 60, 52,  2, 70, 59, 52, 63, 63,  2, 54, 66, 64,\n",
            "        67, 69, 60, 70, 56, 87, 79, 82,  0,  5, 52,  6,  2, 71, 59, 56,  2, 71,\n",
            "        56, 69, 69, 60, 71, 66, 69, 60, 56, 70,  2, 66, 57,  2, 71, 59, 56,  2,\n",
            "        41, 71, 52, 71, 56, 70, 22,  0,  5, 53,  6,  2, 71, 59, 56,  2, 43, 65,\n",
            "        60, 66, 65,  2, 71, 56, 69, 69, 60, 71, 66, 69, 60, 56, 70,  2, 70, 67,\n",
            "        56, 54, 60, 57, 60, 56, 55,  2, 60, 65,  2, 71, 59, 56,  2, 28, 60, 69,\n",
            "        70, 71,  2, 41, 54, 59, 56, 55, 72, 63, 56, 22,  2, 52, 65, 55,  0,  5,\n",
            "        54,  6,  2, 70, 72, 54, 59,  2, 66, 71, 59, 56, 69,  2, 71, 56, 69, 69,\n",
            "        60, 71, 66, 69, 60, 56, 70,  2, 52, 70,  2, 64, 52, 76,  2, 53, 56,  2,\n",
            "        52, 54, 68, 72, 60, 69, 56, 55, 10,  0, 13, 10,  2, 23, 55, 64, 60, 70,\n",
            "        70, 60, 66, 65,  2, 66, 69,  2, 56, 70, 71, 52, 53, 63, 60, 70, 59, 64,\n",
            "        56, 65, 71,  2, 66, 57,  2, 65, 56, 74,  2, 41, 71, 52, 71, 56, 70, 10,\n",
            "        87, 79, 82, 38, 52, 69, 63, 60, 52, 64, 56, 65, 71,  2, 64, 52, 76,  2,\n",
            "        53, 76,  2, 63, 52, 74,  0, 52, 55, 64, 60, 71,  2, 60, 65, 71, 66,  2,\n",
            "        71, 59, 56,  2, 43, 65, 60, 66, 65,  8,  2, 66, 69,  2, 56, 70, 71, 52,\n",
            "        53, 63, 60, 70, 59,  8,  2, 65, 56, 74,  2, 41, 71, 52, 71, 56, 70,  2,\n",
            "        66, 65,  2, 70, 72, 54, 59,  2, 71, 56, 69, 64, 70,  2, 52, 65, 55,  2,\n",
            "        54, 66, 65, 55, 60, 71, 60, 66, 65, 70,  2, 52, 70,  2, 60,  0, 71,  0,\n",
            "        71, 59, 60, 65, 62, 70,  2, 57, 60, 71, 10,  0, 13, 23, 10,  2, 49, 41,\n",
            "        60, 62, 62, 60, 64,  2, 71, 66,  2, 53, 56,  2, 52, 70, 70, 66, 54, 60,\n",
            "        52, 71, 56, 55,  2, 74, 60, 71, 59,  2, 71, 59, 56,  2, 43, 65, 60, 66,\n",
            "        65, 10, 50,  2, 40, 56, 67, 10,  2, 53, 76,  2, 71, 59, 56,  2, 25, 66,\n",
            "        65, 70, 71, 60, 71, 72, 71, 60, 66, 65,  0,  5, 42, 59, 60, 69, 71, 76,\n",
            "         9,  2, 70, 60, 75, 71, 59,  2, 23, 64, 56, 65, 55, 64, 56, 65, 71,  6,\n",
            "         2, 23, 54, 71,  8,  2, 12, 20, 18, 16,  8,  2, 70, 10,  2, 16,  2,  5,\n",
            "        74, 10, 56, 10, 57, 10,  2, 13, 17,  9, 15,  9, 12, 20, 18, 16,  6, 10,\n",
            "         0, 14, 10,  2, 28, 66, 69, 64, 52, 71, 60, 66, 65,  2, 66, 57,  2, 65,\n",
            "        56, 74,  2, 41, 71, 52, 71, 56, 70,  2, 52, 65, 55,  2, 52, 63, 71, 56,\n",
            "        69, 52, 71, 60, 66, 65,  2, 66, 57,  2, 52, 69, 56, 52, 70,  8,  2, 53,\n",
            "        66, 72, 65, 55, 52, 69, 60, 56, 70,  2, 66, 69,  0, 65, 52, 64, 56, 70,\n",
            "         2, 66, 57,  2, 56, 75, 60, 70, 71, 60, 65, 58,  2, 41, 71, 52, 71, 56,\n",
            "        70, 10, 87, 79, 82, 38, 52, 69, 63, 60, 52, 64, 56, 65, 71,  2, 64, 52,\n",
            "        76,  2, 53, 76,  2, 63, 52, 74, 87, 79, 82,  0,  5, 52,  6, 57, 66, 69,\n",
            "        64,  2, 52,  2, 65, 56, 74,  2, 41, 71, 52, 71, 56,  2, 53, 76,  2, 70,\n",
            "        56, 67, 52, 69, 52, 71, 60, 66, 65,  2, 66, 57,  2, 71, 56, 69, 69, 60,\n",
            "        71, 66, 69, 76,  2, 57, 69, 66, 64,  2, 52, 65, 76,  2, 41, 71, 52, 71,\n",
            "        56,  2, 66, 69,  2, 53, 76,  0, 72, 65, 60, 71, 60, 65, 58,  2, 71, 74,\n",
            "        66,  2, 66, 69,  2, 64, 66, 69, 56,  2, 41, 71, 52, 71, 56, 70,  2, 66,\n",
            "        69,  2, 67, 52, 69, 71, 70,  2, 66, 57,  2, 41, 71, 52, 71, 56, 70,  2,\n",
            "        66, 69,  2, 53, 76,  2, 72, 65, 60, 71, 60, 65, 58,  2, 52, 65, 76,  2,\n",
            "        71, 56, 69, 69, 60, 71, 66, 69, 76,  2, 71, 66,  0, 52,  2, 67, 52, 69,\n",
            "        71,  2, 66, 57,  2, 52, 65, 76,  2, 41, 71, 52, 71, 56, 22,  0,  5, 53,\n",
            "         6,  2, 60, 65, 54, 69, 56, 52, 70, 56])\n"
          ]
        }
      ],
      "source": [
        "# let's now encode the entire text dataset and store it into a torch.Tensor\n",
        "import torch # we use PyTorch: https://pytorch.org\n",
        "data = torch.tensor(encode(text), dtype=torch.long)\n",
        "print(data.shape, data.dtype)\n",
        "print(data[:1000]) # the 1000 characters we looked at earier will to the GPT look like this"
      ]
    },
    {
      "cell_type": "code",
      "execution_count": null,
      "metadata": {
        "id": "f_WIXqxz0lU5"
      },
      "outputs": [],
      "source": [
        "# Let's now split up the data into train and validation sets\n",
        "n = int(0.9*len(data)) # first 90% will be train, rest val\n",
        "train_data = data[:n]\n",
        "val_data = data[n:]"
      ]
    },
    {
      "cell_type": "code",
      "execution_count": null,
      "metadata": {
        "colab": {
          "base_uri": "https://localhost:8080/"
        },
        "id": "TD5Bj8Y6IAD4",
        "outputId": "6085f1ef-0d69-4259-a6b6-570dcd364a96"
      },
      "outputs": [
        {
          "output_type": "execute_result",
          "data": {
            "text/plain": [
              "tensor([38, 23, 40, 42,  2, 31,  0, 42, 30])"
            ]
          },
          "metadata": {},
          "execution_count": 10
        }
      ],
      "source": [
        "block_size = 8\n",
        "train_data[:block_size+1]"
      ]
    },
    {
      "cell_type": "code",
      "execution_count": null,
      "metadata": {
        "colab": {
          "base_uri": "https://localhost:8080/"
        },
        "id": "9HXDe8vGJCEn",
        "outputId": "54a7a5eb-8d74-425e-a23b-3911a38d4e9b"
      },
      "outputs": [
        {
          "output_type": "stream",
          "name": "stdout",
          "text": [
            "when input is tensor([38]) the target: 23\n",
            "when input is tensor([38, 23]) the target: 40\n",
            "when input is tensor([38, 23, 40]) the target: 42\n",
            "when input is tensor([38, 23, 40, 42]) the target: 2\n",
            "when input is tensor([38, 23, 40, 42,  2]) the target: 31\n",
            "when input is tensor([38, 23, 40, 42,  2, 31]) the target: 0\n",
            "when input is tensor([38, 23, 40, 42,  2, 31,  0]) the target: 42\n",
            "when input is tensor([38, 23, 40, 42,  2, 31,  0, 42]) the target: 30\n"
          ]
        }
      ],
      "source": [
        "x = train_data[:block_size]\n",
        "y = train_data[1:block_size+1]\n",
        "for t in range(block_size):\n",
        "    context = x[:t+1]\n",
        "    target = y[t]\n",
        "    print(f\"when input is {context} the target: {target}\")"
      ]
    },
    {
      "cell_type": "code",
      "execution_count": null,
      "metadata": {
        "colab": {
          "base_uri": "https://localhost:8080/"
        },
        "id": "Q3k1Czf7LuA9",
        "outputId": "7e45e789-5ab7-44ec-9094-cdb5eb3ce4f2"
      },
      "outputs": [
        {
          "output_type": "stream",
          "name": "stdout",
          "text": [
            "inputs:\n",
            "torch.Size([4, 8])\n",
            "tensor([[ 2, 54, 66, 65, 71, 60, 65, 72],\n",
            "        [73, 56, 55,  2, 57, 66, 69,  2],\n",
            "        [71, 69, 52, 65, 70, 57, 56, 69],\n",
            "        [52, 63, 63,  2, 64, 52, 61, 66]])\n",
            "targets:\n",
            "torch.Size([4, 8])\n",
            "tensor([[54, 66, 65, 71, 60, 65, 72, 56],\n",
            "        [56, 55,  2, 57, 66, 69,  2, 41],\n",
            "        [69, 52, 65, 70, 57, 56, 69,  2],\n",
            "        [63, 63,  2, 64, 52, 61, 66, 69]])\n",
            "----\n",
            "when input is [2] the target: 54\n",
            "when input is [2, 54] the target: 66\n",
            "when input is [2, 54, 66] the target: 65\n",
            "when input is [2, 54, 66, 65] the target: 71\n",
            "when input is [2, 54, 66, 65, 71] the target: 60\n",
            "when input is [2, 54, 66, 65, 71, 60] the target: 65\n",
            "when input is [2, 54, 66, 65, 71, 60, 65] the target: 72\n",
            "when input is [2, 54, 66, 65, 71, 60, 65, 72] the target: 56\n",
            "when input is [73] the target: 56\n",
            "when input is [73, 56] the target: 55\n",
            "when input is [73, 56, 55] the target: 2\n",
            "when input is [73, 56, 55, 2] the target: 57\n",
            "when input is [73, 56, 55, 2, 57] the target: 66\n",
            "when input is [73, 56, 55, 2, 57, 66] the target: 69\n",
            "when input is [73, 56, 55, 2, 57, 66, 69] the target: 2\n",
            "when input is [73, 56, 55, 2, 57, 66, 69, 2] the target: 41\n",
            "when input is [71] the target: 69\n",
            "when input is [71, 69] the target: 52\n",
            "when input is [71, 69, 52] the target: 65\n",
            "when input is [71, 69, 52, 65] the target: 70\n",
            "when input is [71, 69, 52, 65, 70] the target: 57\n",
            "when input is [71, 69, 52, 65, 70, 57] the target: 56\n",
            "when input is [71, 69, 52, 65, 70, 57, 56] the target: 69\n",
            "when input is [71, 69, 52, 65, 70, 57, 56, 69] the target: 2\n",
            "when input is [52] the target: 63\n",
            "when input is [52, 63] the target: 63\n",
            "when input is [52, 63, 63] the target: 2\n",
            "when input is [52, 63, 63, 2] the target: 64\n",
            "when input is [52, 63, 63, 2, 64] the target: 52\n",
            "when input is [52, 63, 63, 2, 64, 52] the target: 61\n",
            "when input is [52, 63, 63, 2, 64, 52, 61] the target: 66\n",
            "when input is [52, 63, 63, 2, 64, 52, 61, 66] the target: 69\n"
          ]
        }
      ],
      "source": [
        "torch.manual_seed(1337)\n",
        "batch_size = 4 # how many independent sequences will we process in parallel?\n",
        "block_size = 8 # what is the maximum context length for predictions?\n",
        "\n",
        "def get_batch(split):\n",
        "    # generate a small batch of data of inputs x and targets y\n",
        "    data = train_data if split == 'train' else val_data\n",
        "    ix = torch.randint(len(data) - block_size, (batch_size,))\n",
        "    x = torch.stack([data[i:i+block_size] for i in ix])\n",
        "    y = torch.stack([data[i+1:i+block_size+1] for i in ix])\n",
        "    return x, y\n",
        "\n",
        "xb, yb = get_batch('train')\n",
        "print('inputs:')\n",
        "print(xb.shape)\n",
        "print(xb)\n",
        "print('targets:')\n",
        "print(yb.shape)\n",
        "print(yb)\n",
        "\n",
        "print('----')\n",
        "\n",
        "for b in range(batch_size): # batch dimension\n",
        "    for t in range(block_size): # time dimension\n",
        "        context = xb[b, :t+1]\n",
        "        target = yb[b,t]\n",
        "        print(f\"when input is {context.tolist()} the target: {target}\")"
      ]
    },
    {
      "cell_type": "code",
      "execution_count": null,
      "metadata": {
        "colab": {
          "base_uri": "https://localhost:8080/"
        },
        "id": "qpyyAeIzQjlO",
        "outputId": "7c5c6e2e-970a-4cc5-aaf7-53fcf36c2d1d"
      },
      "outputs": [
        {
          "output_type": "stream",
          "name": "stdout",
          "text": [
            "tensor([[ 2, 54, 66, 65, 71, 60, 65, 72],\n",
            "        [73, 56, 55,  2, 57, 66, 69,  2],\n",
            "        [71, 69, 52, 65, 70, 57, 56, 69],\n",
            "        [52, 63, 63,  2, 64, 52, 61, 66]])\n"
          ]
        }
      ],
      "source": [
        "print(xb) # our input to the transformer"
      ]
    },
    {
      "cell_type": "code",
      "execution_count": null,
      "metadata": {
        "colab": {
          "base_uri": "https://localhost:8080/"
        },
        "id": "nql_1ER53oCf",
        "outputId": "2c708e19-87fe-4498-9fc8-f3954063befb"
      },
      "outputs": [
        {
          "output_type": "stream",
          "name": "stdout",
          "text": [
            "torch.Size([32, 89])\n",
            "tensor(4.8514, grad_fn=<NllLossBackward0>)\n",
            "\n",
            "7rMu;-PUN¶î\"EL:DAAc\"UOì5),IoMM):HhMSO ÔúJK0QTzMyY8™9k\"::_94Wmd¶QjZW‚Zz\"JUaR1úÔqFAv™bù4™cÄn'I6M]cC2:R\n"
          ]
        }
      ],
      "source": [
        "import torch\n",
        "import torch.nn as nn\n",
        "from torch.nn import functional as F\n",
        "torch.manual_seed(1337)\n",
        "\n",
        "class BigramLanguageModel(nn.Module):\n",
        "\n",
        "    def __init__(self, vocab_size):\n",
        "        super().__init__()\n",
        "        # each token directly reads off the logits for the next token from a lookup table\n",
        "        self.token_embedding_table = nn.Embedding(vocab_size, vocab_size)\n",
        "\n",
        "    def forward(self, idx, targets=None):\n",
        "\n",
        "        # idx and targets are both (B,T) tensor of integers\n",
        "        logits = self.token_embedding_table(idx) # (B,T,C)\n",
        "\n",
        "        if targets is None:\n",
        "            loss = None\n",
        "        else:\n",
        "            B, T, C = logits.shape\n",
        "            logits = logits.view(B*T, C)\n",
        "            targets = targets.view(B*T)\n",
        "            loss = F.cross_entropy(logits, targets)\n",
        "\n",
        "        return logits, loss\n",
        "\n",
        "    def generate(self, idx, max_new_tokens):\n",
        "        # idx is (B, T) array of indices in the current context\n",
        "        for _ in range(max_new_tokens):\n",
        "            # get the predictions\n",
        "            logits, loss = self(idx)\n",
        "            # focus only on the last time step\n",
        "            logits = logits[:, -1, :] # becomes (B, C)\n",
        "            # apply softmax to get probabilities\n",
        "            probs = F.softmax(logits, dim=-1) # (B, C)\n",
        "            # sample from the distribution\n",
        "            idx_next = torch.multinomial(probs, num_samples=1) # (B, 1)\n",
        "            # append sampled index to the running sequence\n",
        "            idx = torch.cat((idx, idx_next), dim=1) # (B, T+1)\n",
        "        return idx\n",
        "\n",
        "m = BigramLanguageModel(vocab_size)\n",
        "logits, loss = m(xb, yb)\n",
        "print(logits.shape)\n",
        "print(loss)\n",
        "\n",
        "print(decode(m.generate(idx = torch.zeros((1, 1), dtype=torch.long), max_new_tokens=100)[0].tolist()))\n"
      ]
    },
    {
      "cell_type": "code",
      "execution_count": null,
      "metadata": {
        "id": "eTyJ8qAaDdiF"
      },
      "outputs": [],
      "source": [
        "# create a PyTorch optimizer\n",
        "optimizer = torch.optim.AdamW(m.parameters(), lr=1e-3)"
      ]
    },
    {
      "cell_type": "code",
      "execution_count": null,
      "metadata": {
        "colab": {
          "base_uri": "https://localhost:8080/"
        },
        "id": "Hs4kI8YdEkQj",
        "outputId": "ad93cc8f-199e-4572-f5d2-e79476c55cd8"
      },
      "outputs": [
        {
          "output_type": "stream",
          "name": "stdout",
          "text": [
            "4.757412910461426\n"
          ]
        }
      ],
      "source": [
        "batch_size = 32\n",
        "for steps in range(100): # increase number of steps for good results...\n",
        "\n",
        "    # sample a batch of data\n",
        "    xb, yb = get_batch('train')\n",
        "\n",
        "    # evaluate the loss\n",
        "    logits, loss = m(xb, yb)\n",
        "    optimizer.zero_grad(set_to_none=True)\n",
        "    loss.backward()\n",
        "    optimizer.step()\n",
        "\n",
        "print(loss.item())\n"
      ]
    },
    {
      "cell_type": "code",
      "execution_count": null,
      "metadata": {
        "colab": {
          "base_uri": "https://localhost:8080/"
        },
        "id": "EcVIDWAZEtjN",
        "outputId": "7a46fb43-440f-489a-9891-c84766f85125"
      },
      "outputs": [
        {
          "output_type": "stream",
          "name": "stdout",
          "text": [
            "\n",
            "IZEF, 6_XG,ù2bVJKiDUnôaA,uXìV9T.WXZCCV8n).EO ôWTA)*'0zH\"cFW™ì 5T,5BUGH_™iC6lXlPw5wú3útôùòbUVCKOkAqEDypi[úev6K™Yr1h8ô¶î_™.B30, F6NùH0XUzHfÄ]DYDMEF)NôAr(.af_FReR;jIw3ùîc.BÄ4Mm1(I,ùôiDU6k\"7'nO¶Y ù4nuVRF™Ry k[ôhSPn.ú:î)Mmvr4LJ-:Ix\n",
            "cD \"-Ô™6e(AvDkFUsOTìfkJHDY(81HL:eÔîEÔkn'ìOaPE¶D™)jbJk7™caJHoòV-NpSNH:A]îpH - HkX*N0ZLGg]f;yQ:7gvA,(KBvQJp-KBùwPx.búW'a \fÔu9™Wxio 25\f\fK\"gd)CSdò\f4VKôCì;ÔXElxaNWU.WkK\"J(tb3 0iDK\"xùîfO9.pJU.‚BQvD0\f0G_JPGújgCXbMZG3C:PtEezr3ni(ò0N4Zbù), OÄt\n",
            "jv1oPB4SKRoòWreRùòyPU;A;Z4m\f.mI',ùHúFK\n"
          ]
        }
      ],
      "source": [
        "print(decode(m.generate(idx = torch.zeros((1, 1), dtype=torch.long), max_new_tokens=500)[0].tolist()))"
      ]
    },
    {
      "cell_type": "code",
      "execution_count": null,
      "metadata": {
        "colab": {
          "base_uri": "https://localhost:8080/"
        },
        "id": "tukiH-NbRBhA",
        "outputId": "237e0226-a9dd-46dd-ae02-4d0f2712b77d"
      },
      "outputs": [
        {
          "output_type": "stream",
          "name": "stdout",
          "text": [
            "a=\n",
            "tensor([[1.0000, 0.0000, 0.0000],\n",
            "        [0.5000, 0.5000, 0.0000],\n",
            "        [0.3333, 0.3333, 0.3333]])\n",
            "--\n",
            "b=\n",
            "tensor([[2., 7.],\n",
            "        [6., 4.],\n",
            "        [6., 5.]])\n",
            "--\n",
            "c=\n",
            "tensor([[2.0000, 7.0000],\n",
            "        [4.0000, 5.5000],\n",
            "        [4.6667, 5.3333]])\n"
          ]
        }
      ],
      "source": [
        "# toy example illustrating how matrix multiplication can be used for a \"weighted aggregation\"\n",
        "torch.manual_seed(42)\n",
        "a = torch.tril(torch.ones(3, 3))\n",
        "a = a / torch.sum(a, 1, keepdim=True)\n",
        "b = torch.randint(0,10,(3,2)).float()\n",
        "c = a @ b\n",
        "print('a=')\n",
        "print(a)\n",
        "print('--')\n",
        "print('b=')\n",
        "print(b)\n",
        "print('--')\n",
        "print('c=')\n",
        "print(c)"
      ]
    },
    {
      "cell_type": "code",
      "execution_count": null,
      "metadata": {
        "colab": {
          "base_uri": "https://localhost:8080/"
        },
        "id": "Hs_E24uRE8kr",
        "outputId": "fea4dd17-fa4b-4aa1-ee4b-50829862dc0b"
      },
      "outputs": [
        {
          "output_type": "execute_result",
          "data": {
            "text/plain": [
              "torch.Size([4, 8, 2])"
            ]
          },
          "metadata": {},
          "execution_count": 19
        }
      ],
      "source": [
        "# consider the following toy example:\n",
        "\n",
        "torch.manual_seed(1337)\n",
        "B,T,C = 4,8,2 # batch, time, channels\n",
        "x = torch.randn(B,T,C)\n",
        "x.shape"
      ]
    },
    {
      "cell_type": "code",
      "execution_count": null,
      "metadata": {
        "id": "86NuXX0fn7ps"
      },
      "outputs": [],
      "source": [
        "# We want x[b,t] = mean_{i<=t} x[b,i]\n",
        "xbow = torch.zeros((B,T,C))\n",
        "for b in range(B):\n",
        "    for t in range(T):\n",
        "        xprev = x[b,:t+1] # (t,C)\n",
        "        xbow[b,t] = torch.mean(xprev, 0)\n"
      ]
    },
    {
      "cell_type": "code",
      "execution_count": null,
      "metadata": {
        "colab": {
          "base_uri": "https://localhost:8080/"
        },
        "id": "yhdOAd6-wXkZ",
        "outputId": "efaa1b76-772b-4151-f71d-34fc3b8b40b2"
      },
      "outputs": [
        {
          "output_type": "execute_result",
          "data": {
            "text/plain": [
              "False"
            ]
          },
          "metadata": {},
          "execution_count": 21
        }
      ],
      "source": [
        "# version 2: using matrix multiply for a weighted aggregation\n",
        "wei = torch.tril(torch.ones(T, T))\n",
        "wei = wei / wei.sum(1, keepdim=True)\n",
        "xbow2 = wei @ x # (B, T, T) @ (B, T, C) ----> (B, T, C)\n",
        "torch.allclose(xbow, xbow2)"
      ]
    },
    {
      "cell_type": "code",
      "execution_count": null,
      "metadata": {
        "colab": {
          "base_uri": "https://localhost:8080/"
        },
        "id": "wOURrfG-ysoL",
        "outputId": "edbf9a85-a353-46ae-eea1-6adcf101ced2"
      },
      "outputs": [
        {
          "output_type": "execute_result",
          "data": {
            "text/plain": [
              "False"
            ]
          },
          "metadata": {},
          "execution_count": 22
        }
      ],
      "source": [
        "# version 3: use Softmax\n",
        "tril = torch.tril(torch.ones(T, T))\n",
        "wei = torch.zeros((T,T))\n",
        "wei = wei.masked_fill(tril == 0, float('-inf'))\n",
        "wei = F.softmax(wei, dim=-1)\n",
        "xbow3 = wei @ x\n",
        "torch.allclose(xbow, xbow3)\n"
      ]
    },
    {
      "cell_type": "code",
      "execution_count": null,
      "metadata": {
        "colab": {
          "base_uri": "https://localhost:8080/"
        },
        "id": "EDarxEWIRMKq",
        "outputId": "5fddede3-fafa-498a-f596-b22886d0e1db"
      },
      "outputs": [
        {
          "output_type": "execute_result",
          "data": {
            "text/plain": [
              "torch.Size([4, 8, 16])"
            ]
          },
          "metadata": {},
          "execution_count": 23
        }
      ],
      "source": [
        "# version 4: self-attention!\n",
        "torch.manual_seed(1337)\n",
        "B,T,C = 4,8,32 # batch, time, channels\n",
        "x = torch.randn(B,T,C)\n",
        "\n",
        "# let's see a single Head perform self-attention\n",
        "head_size = 16\n",
        "key = nn.Linear(C, head_size, bias=False)\n",
        "query = nn.Linear(C, head_size, bias=False)\n",
        "value = nn.Linear(C, head_size, bias=False)\n",
        "k = key(x)   # (B, T, 16)\n",
        "q = query(x) # (B, T, 16)\n",
        "wei =  q @ k.transpose(-2, -1) # (B, T, 16) @ (B, 16, T) ---> (B, T, T)\n",
        "\n",
        "tril = torch.tril(torch.ones(T, T))\n",
        "#wei = torch.zeros((T,T))\n",
        "wei = wei.masked_fill(tril == 0, float('-inf'))\n",
        "wei = F.softmax(wei, dim=-1)\n",
        "\n",
        "v = value(x)\n",
        "out = wei @ v\n",
        "#out = wei @ x\n",
        "\n",
        "out.shape"
      ]
    },
    {
      "cell_type": "code",
      "execution_count": null,
      "metadata": {
        "colab": {
          "base_uri": "https://localhost:8080/"
        },
        "id": "vT1hdtzXCjgL",
        "outputId": "9104fa53-3a12-42f8-d52c-7f590a24e803"
      },
      "outputs": [
        {
          "output_type": "execute_result",
          "data": {
            "text/plain": [
              "tensor([[1.0000, 0.0000, 0.0000, 0.0000, 0.0000, 0.0000, 0.0000, 0.0000],\n",
              "        [0.1574, 0.8426, 0.0000, 0.0000, 0.0000, 0.0000, 0.0000, 0.0000],\n",
              "        [0.2088, 0.1646, 0.6266, 0.0000, 0.0000, 0.0000, 0.0000, 0.0000],\n",
              "        [0.5792, 0.1187, 0.1889, 0.1131, 0.0000, 0.0000, 0.0000, 0.0000],\n",
              "        [0.0294, 0.1052, 0.0469, 0.0276, 0.7909, 0.0000, 0.0000, 0.0000],\n",
              "        [0.0176, 0.2689, 0.0215, 0.0089, 0.6812, 0.0019, 0.0000, 0.0000],\n",
              "        [0.1691, 0.4066, 0.0438, 0.0416, 0.1048, 0.2012, 0.0329, 0.0000],\n",
              "        [0.0210, 0.0843, 0.0555, 0.2297, 0.0573, 0.0709, 0.2423, 0.2391]],\n",
              "       grad_fn=<SelectBackward0>)"
            ]
          },
          "metadata": {},
          "execution_count": 24
        }
      ],
      "source": [
        "wei[0]"
      ]
    },
    {
      "cell_type": "code",
      "execution_count": null,
      "metadata": {
        "id": "4SNbLq5z3oBw"
      },
      "outputs": [],
      "source": [
        "k = torch.randn(B,T,head_size)\n",
        "q = torch.randn(B,T,head_size)\n",
        "wei = q @ k.transpose(-2, -1) * head_size**-0.5"
      ]
    },
    {
      "cell_type": "code",
      "execution_count": null,
      "metadata": {
        "colab": {
          "base_uri": "https://localhost:8080/"
        },
        "id": "Nl6I9n9IRTSo",
        "outputId": "2817b234-697c-4e83-ed8f-3a4d2e3f2142"
      },
      "outputs": [
        {
          "output_type": "execute_result",
          "data": {
            "text/plain": [
              "tensor(1.0449)"
            ]
          },
          "metadata": {},
          "execution_count": 26
        }
      ],
      "source": [
        "k.var()"
      ]
    },
    {
      "cell_type": "code",
      "execution_count": null,
      "metadata": {
        "colab": {
          "base_uri": "https://localhost:8080/"
        },
        "id": "T1tQx7oeRvtc",
        "outputId": "67120136-b9be-41df-fb18-3ef976fff277"
      },
      "outputs": [
        {
          "output_type": "execute_result",
          "data": {
            "text/plain": [
              "tensor(1.0700)"
            ]
          },
          "metadata": {},
          "execution_count": 27
        }
      ],
      "source": [
        "q.var()"
      ]
    },
    {
      "cell_type": "code",
      "execution_count": null,
      "metadata": {
        "colab": {
          "base_uri": "https://localhost:8080/"
        },
        "id": "MLb_odHU3iKM",
        "outputId": "84e26973-3041-4359-ccf9-5bf87cc06aa6"
      },
      "outputs": [
        {
          "output_type": "execute_result",
          "data": {
            "text/plain": [
              "tensor(1.0918)"
            ]
          },
          "metadata": {},
          "execution_count": 28
        }
      ],
      "source": [
        "wei.var()"
      ]
    },
    {
      "cell_type": "code",
      "execution_count": null,
      "metadata": {
        "colab": {
          "base_uri": "https://localhost:8080/"
        },
        "id": "JB82yzt44REI",
        "outputId": "8671e2a1-1704-4924-91c6-85a3ad532749"
      },
      "outputs": [
        {
          "output_type": "execute_result",
          "data": {
            "text/plain": [
              "tensor([0.1925, 0.1426, 0.2351, 0.1426, 0.2872])"
            ]
          },
          "metadata": {},
          "execution_count": 29
        }
      ],
      "source": [
        "torch.softmax(torch.tensor([0.1, -0.2, 0.3, -0.2, 0.5]), dim=-1)"
      ]
    },
    {
      "cell_type": "code",
      "execution_count": null,
      "metadata": {
        "colab": {
          "base_uri": "https://localhost:8080/"
        },
        "id": "Mpt8569BB9_f",
        "outputId": "6aeb6825-53b2-4f85-d7f7-3fe1abd90aa8"
      },
      "outputs": [
        {
          "output_type": "execute_result",
          "data": {
            "text/plain": [
              "tensor([0.0326, 0.0030, 0.1615, 0.0030, 0.8000])"
            ]
          },
          "metadata": {},
          "execution_count": 30
        }
      ],
      "source": [
        "torch.softmax(torch.tensor([0.1, -0.2, 0.3, -0.2, 0.5])*8, dim=-1) # gets too peaky, converges to one-hot"
      ]
    },
    {
      "cell_type": "code",
      "execution_count": null,
      "metadata": {
        "colab": {
          "base_uri": "https://localhost:8080/"
        },
        "id": "2Num7sX9CKOH",
        "outputId": "2bf81733-11ac-4962-f32e-2949429ae8ef"
      },
      "outputs": [
        {
          "output_type": "execute_result",
          "data": {
            "text/plain": [
              "torch.Size([32, 100])"
            ]
          },
          "metadata": {},
          "execution_count": 31
        }
      ],
      "source": [
        "class LayerNorm1d:\n",
        "  def __init__(self, dim, eps=1e-5, momentum=0.1):\n",
        "    self.eps = eps\n",
        "    self.gamma = torch.ones(dim)\n",
        "    self.beta = torch.zeros(dim)\n",
        "\n",
        "  def __call__(self, x):\n",
        "    # calculate the forward pass\n",
        "    xmean = x.mean(1, keepdim=True) # batch mean\n",
        "    xvar = x.var(1, keepdim=True) # batch variance\n",
        "    xhat = (x - xmean) / torch.sqrt(xvar + self.eps) # normalize to unit variance\n",
        "    self.out = self.gamma * xhat + self.beta\n",
        "    return self.out\n",
        "\n",
        "  def parameters(self):\n",
        "    return [self.gamma, self.beta]\n",
        "\n",
        "torch.manual_seed(1337)\n",
        "module = LayerNorm1d(100)\n",
        "x = torch.randn(32, 100) # batch size 32 of 100-dimensional vectors\n",
        "x = module(x)\n",
        "x.shape"
      ]
    },
    {
      "cell_type": "code",
      "execution_count": null,
      "metadata": {
        "colab": {
          "base_uri": "https://localhost:8080/"
        },
        "id": "633T2cmnW1uk",
        "outputId": "41264ef4-0312-4817-a481-fa584c187787"
      },
      "outputs": [
        {
          "output_type": "execute_result",
          "data": {
            "text/plain": [
              "(tensor(0.1469), tensor(0.8803))"
            ]
          },
          "metadata": {},
          "execution_count": 32
        }
      ],
      "source": [
        "x[:,0].mean(), x[:,0].std() # mean,std of one feature across all batch inputs"
      ]
    },
    {
      "cell_type": "code",
      "execution_count": null,
      "metadata": {
        "colab": {
          "base_uri": "https://localhost:8080/"
        },
        "id": "LN9cK9BoXCYb",
        "outputId": "84f88f7b-b621-4658-f01d-4bc7b757235c"
      },
      "outputs": [
        {
          "output_type": "execute_result",
          "data": {
            "text/plain": [
              "(tensor(-9.5367e-09), tensor(1.0000))"
            ]
          },
          "metadata": {},
          "execution_count": 33
        }
      ],
      "source": [
        "x[0,:].mean(), x[0,:].std() # mean,std of a single input from the batch, of its features"
      ]
    },
    {
      "cell_type": "code",
      "source": [
        "import torch\n",
        "import torch.nn as nn\n",
        "from torch.nn import functional as F\n",
        "\n",
        "# Hyperparameters\n",
        "batch_size = 16\n",
        "block_size = 32\n",
        "max_iters = 5000\n",
        "eval_interval = 100\n",
        "learning_rate = 1e-3\n",
        "device = 'cuda' if torch.cuda.is_available() else 'cpu'\n",
        "eval_iters = 200\n",
        "n_embd = 128\n",
        "n_head = 4\n",
        "n_layer = 4\n",
        "dropout = 0.0\n",
        "\n",
        "torch.manual_seed(1337)\n",
        "\n",
        "# Open and read the file\n",
        "with open('mergedfile.txt', 'r', encoding='MacRoman') as f:\n",
        "    text = f.read()\n",
        "\n",
        "# Define vocabulary\n",
        "chars = sorted(list(set(text)))\n",
        "vocab_size = len(chars)\n",
        "stoi = {ch: i for i, ch in enumerate(chars)}\n",
        "itos = {i: ch for i, ch in enumerate(chars)}\n",
        "encode = lambda s: [stoi[c] for c in s]\n",
        "decode = lambda l: ''.join([itos[i] for i in l])\n",
        "\n",
        "# Train and validation splits\n",
        "data = torch.tensor(encode(text), dtype=torch.long)\n",
        "n = int(0.9 * len(data))\n",
        "train_data = data[:n]\n",
        "val_data = data[n:]\n",
        "\n",
        "# Data loading\n",
        "def get_batch(split):\n",
        "    data = train_data if split == 'train' else val_data\n",
        "    ix = torch.randint(len(data) - block_size, (batch_size,))\n",
        "    x = torch.stack([data[i:i+block_size] for i in ix])\n",
        "    y = torch.stack([data[i+1:i+block_size+1] for i in ix])\n",
        "    x, y = x.to(device), y.to(device)\n",
        "    return x, y\n",
        "\n",
        "@torch.no_grad()\n",
        "def estimate_loss():\n",
        "    out = {}\n",
        "    model.eval()\n",
        "    for split in ['train', 'val']:\n",
        "        losses = torch.zeros(eval_iters)\n",
        "        for k in range(eval_iters):\n",
        "            X, Y = get_batch(split)\n",
        "            logits, loss = model(X, Y)\n",
        "            losses[k] = loss.item()\n",
        "        out[split] = losses.mean()\n",
        "    model.train()\n",
        "    return out\n",
        "\n",
        "# Define attention head module\n",
        "class Head(nn.Module):\n",
        "    def __init__(self, head_size):\n",
        "        super().__init__()\n",
        "        self.key = nn.Linear(n_embd, head_size, bias=False)\n",
        "        self.query = nn.Linear(n_embd, head_size, bias=False)\n",
        "        self.value = nn.Linear(n_embd, head_size, bias=False)\n",
        "        self.register_buffer('tril', torch.tril(torch.ones(block_size, block_size)))\n",
        "        self.dropout = nn.Dropout(dropout)\n",
        "\n",
        "    def forward(self, x):\n",
        "        B, T, C = x.shape\n",
        "        k = self.key(x)\n",
        "        q = self.query(x)\n",
        "        wei = q @ k.transpose(-2, -1) * C**-0.5\n",
        "        wei = wei.masked_fill(self.tril[:T, :T] == 0, float('-inf'))\n",
        "        wei = F.softmax(wei, dim=-1)\n",
        "        wei = self.dropout(wei)\n",
        "        v = self.value(x)\n",
        "        out = wei @ v\n",
        "        return out\n",
        "\n",
        "# Define multi-head attention module\n",
        "class MultiHeadAttention(nn.Module):\n",
        "    def __init__(self, num_heads, head_size):\n",
        "        super().__init__()\n",
        "        self.heads = nn.ModuleList([Head(head_size) for _ in range(num_heads)])\n",
        "        self.proj = nn.Linear(n_embd, n_embd)\n",
        "        self.dropout = nn.Dropout(dropout)\n",
        "\n",
        "    def forward(self, x):\n",
        "        out = torch.cat([h(x) for h in self.heads], dim=-1)\n",
        "        out = self.dropout(self.proj(out))\n",
        "        return out\n",
        "\n",
        "# Define feedforward module\n",
        "class FeedFoward(nn.Module):\n",
        "    def __init__(self, n_embd):\n",
        "        super().__init__()\n",
        "        self.net = nn.Sequential(\n",
        "            nn.Linear(n_embd, 4 * n_embd),\n",
        "            nn.ReLU(),\n",
        "            nn.Linear(4 * n_embd, n_embd),\n",
        "            nn.Dropout(dropout),\n",
        "        )\n",
        "\n",
        "    def forward(self, x):\n",
        "        return self.net(x)\n",
        "\n",
        "# Adjust Block module to include Layer Normalization after multi-head attention\n",
        "class Block(nn.Module):\n",
        "    def __init__(self, n_embd, n_head):\n",
        "        super().__init__()\n",
        "        head_size = n_embd // n_head\n",
        "        self.sa = MultiHeadAttention(n_head, head_size)\n",
        "        self.ffwd = FeedFoward(n_embd)\n",
        "        self.ln1 = nn.LayerNorm(n_embd)  # Add Layer Normalization after multi-head attention\n",
        "        self.ln2 = nn.LayerNorm(n_embd)\n",
        "\n",
        "    def forward(self, x):\n",
        "        x = x + self.sa(self.ln1(x))\n",
        "        x = x + self.ffwd(self.ln2(x))\n",
        "        return x\n",
        "\n",
        "# Define the language model\n",
        "class BigramLanguageModel(nn.Module):\n",
        "    def __init__(self):\n",
        "        super().__init__()\n",
        "        self.token_embedding_table = nn.Embedding(vocab_size, n_embd)\n",
        "        self.position_embedding_table = nn.Embedding(block_size, n_embd)\n",
        "        self.blocks = nn.Sequential(*[Block(n_embd, n_head=n_head) for _ in range(n_layer)])\n",
        "        self.ln_f = nn.LayerNorm(n_embd)\n",
        "        self.lm_head = nn.Linear(n_embd, vocab_size)\n",
        "\n",
        "    def forward(self, idx, targets=None):\n",
        "        B, T = idx.shape\n",
        "        tok_emb = self.token_embedding_table(idx)\n",
        "        pos_emb = self.position_embedding_table(torch.arange(T, device=device))\n",
        "        x = tok_emb + pos_emb\n",
        "        x = self.blocks(x)\n",
        "        x = self.ln_f(x)\n",
        "        logits = self.lm_head(x)\n",
        "\n",
        "        if targets is None:\n",
        "            loss = None\n",
        "        else:\n",
        "            B, T, C = logits.shape\n",
        "            logits = logits.view(B * T, C)\n",
        "            targets = targets.view(B * T)\n",
        "            loss = F.cross_entropy(logits, targets)\n",
        "\n",
        "        return logits, loss\n",
        "\n",
        "    def generate(self, idx, max_new_tokens):\n",
        "        for _ in range(max_new_tokens):\n",
        "            idx_cond = idx[:, -block_size:]\n",
        "            logits, loss = self(idx_cond)\n",
        "            logits = logits[:, -1, :]\n",
        "            probs = F.softmax(logits, dim=-1)\n",
        "            idx_next = torch.multinomial(probs, num_samples=1)\n",
        "            idx = torch.cat((idx, idx_next), dim=1)\n",
        "        return idx\n",
        "\n",
        "# Instantiate the model\n",
        "model = BigramLanguageModel()\n",
        "m = model.to(device)\n",
        "\n",
        "# Calculate the number of parameters\n",
        "print(sum(p.numel() for p in m.parameters()) / 1e6, 'M parameters')\n",
        "\n",
        "# Define the optimizer\n",
        "optimizer = torch.optim.AdamW(model.parameters(), lr=learning_rate)\n",
        "\n",
        "# Training loop\n",
        "for iter in range(max_iters):\n",
        "    if iter % eval_interval == 0 or iter == max_iters - 1:\n",
        "        losses = estimate_loss()\n",
        "        print(f\"step {iter}: train loss {losses['train']:.4f}, val loss {losses['val']:.4f}\")\n",
        "\n",
        "    xb, yb = get_batch('train')\n",
        "    logits, loss = model(xb, yb)\n",
        "    optimizer.zero_grad(set_to_none=True)\n",
        "    loss.backward()\n",
        "    optimizer.step()\n",
        "\n",
        "# Generate text from the model\n",
        "context = torch.zeros((1, 1), dtype=torch.long, device=device)\n",
        "print(decode(m.generate(context, max_new_tokens=7000)[0].tolist()))\n"
      ],
      "metadata": {
        "colab": {
          "base_uri": "https://localhost:8080/"
        },
        "id": "rPREzvq5TWae",
        "outputId": "741f6e6c-ec8b-49c5-ced3-78220b7caaa7"
      },
      "execution_count": null,
      "outputs": [
        {
          "output_type": "stream",
          "name": "stdout",
          "text": [
            "0.818777 M parameters\n",
            "step 0: train loss 4.6787, val loss 4.6730\n",
            "step 100: train loss 2.4254, val loss 2.7866\n",
            "step 200: train loss 2.1815, val loss 2.5155\n",
            "step 300: train loss 1.9397, val loss 2.4372\n",
            "step 400: train loss 1.7751, val loss 2.3423\n",
            "step 500: train loss 1.6281, val loss 2.1966\n",
            "step 600: train loss 1.5551, val loss 2.1633\n",
            "step 700: train loss 1.4786, val loss 2.0805\n",
            "step 800: train loss 1.4450, val loss 2.0907\n",
            "step 900: train loss 1.3774, val loss 2.0585\n",
            "step 1000: train loss 1.3538, val loss 2.0570\n",
            "step 1100: train loss 1.3288, val loss 1.9663\n",
            "step 1200: train loss 1.2831, val loss 1.9611\n",
            "step 1300: train loss 1.2740, val loss 1.9561\n",
            "step 1400: train loss 1.2581, val loss 1.9366\n",
            "step 1500: train loss 1.2356, val loss 1.9058\n",
            "step 1600: train loss 1.2302, val loss 1.8990\n",
            "step 1700: train loss 1.1972, val loss 1.8969\n",
            "step 1800: train loss 1.1909, val loss 1.8293\n",
            "step 1900: train loss 1.1833, val loss 1.8838\n",
            "step 2000: train loss 1.1651, val loss 1.8367\n",
            "step 2100: train loss 1.1547, val loss 1.8234\n",
            "step 2200: train loss 1.1486, val loss 1.8701\n",
            "step 2300: train loss 1.1423, val loss 1.8354\n",
            "step 2400: train loss 1.1382, val loss 1.8745\n",
            "step 2500: train loss 1.1271, val loss 1.8254\n",
            "step 2600: train loss 1.0919, val loss 1.7888\n",
            "step 2700: train loss 1.1054, val loss 1.8012\n",
            "step 2800: train loss 1.0884, val loss 1.8165\n",
            "step 2900: train loss 1.0783, val loss 1.7717\n",
            "step 3000: train loss 1.0888, val loss 1.7804\n",
            "step 3100: train loss 1.0636, val loss 1.8059\n",
            "step 3200: train loss 1.0803, val loss 1.7872\n",
            "step 3300: train loss 1.0607, val loss 1.7744\n",
            "step 3400: train loss 1.0530, val loss 1.7800\n",
            "step 3500: train loss 1.0544, val loss 1.7481\n",
            "step 3600: train loss 1.0468, val loss 1.7718\n",
            "step 3700: train loss 1.0390, val loss 1.7641\n",
            "step 3800: train loss 1.0419, val loss 1.7644\n",
            "step 3900: train loss 1.0309, val loss 1.7050\n",
            "step 4000: train loss 1.0286, val loss 1.7442\n",
            "step 4100: train loss 1.0319, val loss 1.7409\n",
            "step 4200: train loss 1.0338, val loss 1.7855\n",
            "step 4300: train loss 1.0215, val loss 1.7500\n",
            "step 4400: train loss 1.0188, val loss 1.7879\n",
            "step 4500: train loss 1.0154, val loss 1.7063\n",
            "step 4600: train loss 0.9898, val loss 1.7134\n",
            "step 4700: train loss 1.0149, val loss 1.7486\n",
            "step 4800: train loss 0.9977, val loss 1.7589\n",
            "step 4900: train loss 0.9932, val loss 1.7522\n",
            "step 4999: train loss 0.9954, val loss 1.7492\n",
            "\n",
            "197, of shall be laid before the President between Provision the territories;\n",
            "(b) dulbresadveries election shall be matte rules\n",
            "caste authe certain area of\n",
            "an control within a Hills, election to the authority of any law for the purpose.\n",
            "328. A. Perty Act, it or appurtment any provision by the Nrice recution has beelong constitutius no Actwairs act having not bearb, allongantations of person the costitutions; \n",
            "\f18\n",
            "\n",
            "TO be subs\n",
            "sted in question\n",
            "whet'en in succent the State and is\n",
            "wollected or rester‚Äô lacen of giving shall be final be of election :‚Äî Parliament or an grant shall be final or matter, vew‚Äù here rection allocation Act of the cessay, etc.‚Äî\n",
            "(1) The Municipalitutions and he notes dances\n",
            "of‚Äî\n",
            "(a) before a commencement of the public suct\n",
            "powers and the Legislature\n",
            "(if.] Rep. by of the Constitution (Amendment) Actzon 192 of\n",
            "India as the Government of the Caste Register in the Scheduled Tribes in the mentent predece and play shall be perfites before the State, and previous as succluding\n",
            "or an order regional insterwity and revenues of any peanses for authority actper, in that State for months office relating to any provide or the appointe Government d\n",
            "illcowithmitation of a such removal , or muted betweent other subject to\n",
            "the provisions referred\n",
            "by the Governor, by which respect to, it is special join the Schedule:\n",
            "Provided that no report under the report form or had been altereates functions a Hith\n",
            "Constitution or autonomous district, which\n",
            "was subjute.\n",
            "971. Compther is mations of acco\n",
            "y on sucheduties;\n",
            "(c) repeaker shall be fill the District\n",
            "Council or the President in region of the President from that Nast intercise under this clause of clause and shall apply to the law in\n",
            "relation to the said periatte afforesaid Thereof a State, but the Constitutions with respect the order of\n",
            "an order, as to\n",
            "Legislative Assembly with respect to any public an9t\n",
            "shall, ;\n",
            "(b) under clause (2) at shall having been public seat to\n",
            "have make, have been subved by the extenth relations to a publicable the matters of Rection,\n",
            "directions with the territories; (c) mess or affulct, in operation for consisting llanger, in sitting, subordinance District States or designment of an member of those he socular appointed day by by the Speaker,\n",
            "6. the Constitution and shall be appointed the getc.‚Äî\n",
            "(1) A Money Bill relating the constitutions after\n",
            "the constitution of the publicable or by grant the referred to the all\n",
            "ceaste, on and itingency\n",
            "itions or more deventh.\n",
            "\n",
            "________________________________________________________________________________________________________________________________________________________________________________________________________________________________________________________________________________________________________________________________________________________________________________________________________________________________________________________________________________________________________________________________________________________________________________________________________________________________________________________________________________________________________________________________________________________________________________________________________________________________________________________________________________________________________________________________________________________________________________________________________________________________________________________________________________________________________________________________________________________________________________________________________________________________________________________________________________________________________________________________________________________________________________________________________________________________________________________________________________________________________________________________________________________________________________________________________________________________________________________________________________________________________________________________________________________________________________________________________________________________________________________________________________________________________________________________________________________________________________________________________________________________________________________________________________________________________________________________________________________________________________________________________________________________________________________________________________________________________________________________________________________________________________________________________________________________________________________________________________________________________________________________________________________________________________________________________________________________________________________________________________________________________________________________________________________________________________________________________________________________________________________________________________________________________________________________________________________________________________________________________________________________________________________________________________________________________________________________________________________________________________________________________________________________________________________________________________________________________________________________________________________________________________________________________________________________________________________________________________________________________________________________________________________________________________________________________________________________________________________________________________________________________________________________________________________________________________________________________________________________________________________________________________________________________________________________________________________________________________________________________________________________________________________________________________________________________________________________________________________________________________________________________________________________________________________________________________________________________________________________________________________________________________________________________________________________________________________________________________________________________________________________________________________________________________________________________________________________________________________________________________________________\n"
          ]
        }
      ]
    }
  ],
  "metadata": {
    "colab": {
      "provenance": [],
      "include_colab_link": true
    },
    "kernelspec": {
      "display_name": "Python 3",
      "name": "python3"
    },
    "language_info": {
      "name": "python"
    }
  },
  "nbformat": 4,
  "nbformat_minor": 0
}